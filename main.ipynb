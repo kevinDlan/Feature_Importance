{
 "cells": [
  {
   "cell_type": "markdown",
   "id": "f63f3028",
   "metadata": {},
   "source": [
    "## Feature Selection "
   ]
  },
  {
   "cell_type": "code",
   "execution_count": 1,
   "id": "f97baa7c",
   "metadata": {},
   "outputs": [],
   "source": [
    "# Importation des Librairie\n",
    "import pandas as pd\n",
    "from sklearn.preprocessing import StandardScaler,RobustScaler,PolynomialFeatures\n",
    "from sklearn.model_selection import train_test_split,learning_curve\n",
    "from sklearn.linear_model import LogisticRegression\n",
    "from sklearn.neighbors import KNeighborsClassifier\n",
    "from sklearn.metrics import classification_report,confusion_matrix\n",
    "from sklearn.metrics import accuracy_score,classification_report\n",
    "from sklearn.svm import LinearSVC,SVC\n",
    "import matplotlib.pyplot  as plt\n",
    "import seaborn as sns\n",
    "import numpy as np\n",
    "import warnings\n",
    "from sklearn.inspection import permutation_importance\n",
    "warnings.filterwarnings('ignore')\n",
    "\n",
    "sns.set()"
   ]
  },
  {
   "cell_type": "code",
   "execution_count": 2,
   "id": "a469f794",
   "metadata": {},
   "outputs": [],
   "source": [
    "#Chargement du Dataset\n",
    "df = pd.read_excel('Heart.xlsx')"
   ]
  },
  {
   "cell_type": "code",
   "execution_count": 3,
   "id": "fdae5512",
   "metadata": {
    "scrolled": true
   },
   "outputs": [
    {
     "data": {
      "text/html": [
       "<div>\n",
       "<style scoped>\n",
       "    .dataframe tbody tr th:only-of-type {\n",
       "        vertical-align: middle;\n",
       "    }\n",
       "\n",
       "    .dataframe tbody tr th {\n",
       "        vertical-align: top;\n",
       "    }\n",
       "\n",
       "    .dataframe thead th {\n",
       "        text-align: right;\n",
       "    }\n",
       "</style>\n",
       "<table border=\"1\" class=\"dataframe\">\n",
       "  <thead>\n",
       "    <tr style=\"text-align: right;\">\n",
       "      <th></th>\n",
       "      <th>AGE</th>\n",
       "      <th>SEXE</th>\n",
       "      <th>TDT</th>\n",
       "      <th>PAR</th>\n",
       "      <th>CHOLESTEROL</th>\n",
       "      <th>GAJ</th>\n",
       "      <th>ECG</th>\n",
       "      <th>FCMAX</th>\n",
       "      <th>ANGINE</th>\n",
       "      <th>DEPRESSION</th>\n",
       "      <th>PENTE</th>\n",
       "      <th>CŒUR</th>\n",
       "    </tr>\n",
       "  </thead>\n",
       "  <tbody>\n",
       "    <tr>\n",
       "      <th>0</th>\n",
       "      <td>40</td>\n",
       "      <td>homme</td>\n",
       "      <td>AA</td>\n",
       "      <td>140</td>\n",
       "      <td>289</td>\n",
       "      <td>0</td>\n",
       "      <td>Normal</td>\n",
       "      <td>172</td>\n",
       "      <td>Non</td>\n",
       "      <td>0.0</td>\n",
       "      <td>Ascendant</td>\n",
       "      <td>0</td>\n",
       "    </tr>\n",
       "    <tr>\n",
       "      <th>1</th>\n",
       "      <td>49</td>\n",
       "      <td>femme</td>\n",
       "      <td>DNA</td>\n",
       "      <td>160</td>\n",
       "      <td>180</td>\n",
       "      <td>0</td>\n",
       "      <td>Normal</td>\n",
       "      <td>156</td>\n",
       "      <td>Non</td>\n",
       "      <td>1.0</td>\n",
       "      <td>Plat</td>\n",
       "      <td>1</td>\n",
       "    </tr>\n",
       "    <tr>\n",
       "      <th>2</th>\n",
       "      <td>37</td>\n",
       "      <td>homme</td>\n",
       "      <td>AA</td>\n",
       "      <td>130</td>\n",
       "      <td>283</td>\n",
       "      <td>0</td>\n",
       "      <td>ST</td>\n",
       "      <td>98</td>\n",
       "      <td>Non</td>\n",
       "      <td>0.0</td>\n",
       "      <td>Ascendant</td>\n",
       "      <td>0</td>\n",
       "    </tr>\n",
       "    <tr>\n",
       "      <th>3</th>\n",
       "      <td>48</td>\n",
       "      <td>femme</td>\n",
       "      <td>ASY</td>\n",
       "      <td>138</td>\n",
       "      <td>214</td>\n",
       "      <td>0</td>\n",
       "      <td>Normal</td>\n",
       "      <td>108</td>\n",
       "      <td>Oui</td>\n",
       "      <td>1.5</td>\n",
       "      <td>Plat</td>\n",
       "      <td>1</td>\n",
       "    </tr>\n",
       "    <tr>\n",
       "      <th>4</th>\n",
       "      <td>54</td>\n",
       "      <td>homme</td>\n",
       "      <td>DNA</td>\n",
       "      <td>150</td>\n",
       "      <td>195</td>\n",
       "      <td>0</td>\n",
       "      <td>Normal</td>\n",
       "      <td>122</td>\n",
       "      <td>Non</td>\n",
       "      <td>0.0</td>\n",
       "      <td>Ascendant</td>\n",
       "      <td>0</td>\n",
       "    </tr>\n",
       "  </tbody>\n",
       "</table>\n",
       "</div>"
      ],
      "text/plain": [
       "   AGE   SEXE  TDT  PAR  CHOLESTEROL  GAJ     ECG  FCMAX ANGINE  DEPRESSION   \\\n",
       "0   40  homme   AA  140          289    0  Normal    172    Non          0.0   \n",
       "1   49  femme  DNA  160          180    0  Normal    156    Non          1.0   \n",
       "2   37  homme   AA  130          283    0      ST     98    Non          0.0   \n",
       "3   48  femme  ASY  138          214    0  Normal    108    Oui          1.5   \n",
       "4   54  homme  DNA  150          195    0  Normal    122    Non          0.0   \n",
       "\n",
       "       PENTE  CŒUR  \n",
       "0  Ascendant     0  \n",
       "1       Plat     1  \n",
       "2  Ascendant     0  \n",
       "3       Plat     1  \n",
       "4  Ascendant     0  "
      ]
     },
     "execution_count": 3,
     "metadata": {},
     "output_type": "execute_result"
    }
   ],
   "source": [
    "#Affichage des 5 premières lignes du Dataset\n",
    "df.head()"
   ]
  },
  {
   "cell_type": "code",
   "execution_count": 4,
   "id": "04cfd1fd",
   "metadata": {},
   "outputs": [],
   "source": [
    "#Renomé une variable\n",
    "df.rename(columns={'DEPRESSION ':'DEPRESSION'},inplace=True)"
   ]
  },
  {
   "cell_type": "code",
   "execution_count": 5,
   "id": "5a52aa13",
   "metadata": {},
   "outputs": [
    {
     "data": {
      "text/html": [
       "<div>\n",
       "<style scoped>\n",
       "    .dataframe tbody tr th:only-of-type {\n",
       "        vertical-align: middle;\n",
       "    }\n",
       "\n",
       "    .dataframe tbody tr th {\n",
       "        vertical-align: top;\n",
       "    }\n",
       "\n",
       "    .dataframe thead th {\n",
       "        text-align: right;\n",
       "    }\n",
       "</style>\n",
       "<table border=\"1\" class=\"dataframe\">\n",
       "  <thead>\n",
       "    <tr style=\"text-align: right;\">\n",
       "      <th></th>\n",
       "      <th>AGE</th>\n",
       "      <th>SEXE</th>\n",
       "      <th>TDT</th>\n",
       "      <th>PAR</th>\n",
       "      <th>CHOLESTEROL</th>\n",
       "      <th>GAJ</th>\n",
       "      <th>ECG</th>\n",
       "      <th>FCMAX</th>\n",
       "      <th>ANGINE</th>\n",
       "      <th>DEPRESSION</th>\n",
       "      <th>PENTE</th>\n",
       "      <th>CŒUR</th>\n",
       "    </tr>\n",
       "  </thead>\n",
       "  <tbody>\n",
       "    <tr>\n",
       "      <th>0</th>\n",
       "      <td>40</td>\n",
       "      <td>homme</td>\n",
       "      <td>AA</td>\n",
       "      <td>140</td>\n",
       "      <td>289</td>\n",
       "      <td>0</td>\n",
       "      <td>Normal</td>\n",
       "      <td>172</td>\n",
       "      <td>Non</td>\n",
       "      <td>0.0</td>\n",
       "      <td>Ascendant</td>\n",
       "      <td>0</td>\n",
       "    </tr>\n",
       "    <tr>\n",
       "      <th>1</th>\n",
       "      <td>49</td>\n",
       "      <td>femme</td>\n",
       "      <td>DNA</td>\n",
       "      <td>160</td>\n",
       "      <td>180</td>\n",
       "      <td>0</td>\n",
       "      <td>Normal</td>\n",
       "      <td>156</td>\n",
       "      <td>Non</td>\n",
       "      <td>1.0</td>\n",
       "      <td>Plat</td>\n",
       "      <td>1</td>\n",
       "    </tr>\n",
       "    <tr>\n",
       "      <th>2</th>\n",
       "      <td>37</td>\n",
       "      <td>homme</td>\n",
       "      <td>AA</td>\n",
       "      <td>130</td>\n",
       "      <td>283</td>\n",
       "      <td>0</td>\n",
       "      <td>ST</td>\n",
       "      <td>98</td>\n",
       "      <td>Non</td>\n",
       "      <td>0.0</td>\n",
       "      <td>Ascendant</td>\n",
       "      <td>0</td>\n",
       "    </tr>\n",
       "    <tr>\n",
       "      <th>3</th>\n",
       "      <td>48</td>\n",
       "      <td>femme</td>\n",
       "      <td>ASY</td>\n",
       "      <td>138</td>\n",
       "      <td>214</td>\n",
       "      <td>0</td>\n",
       "      <td>Normal</td>\n",
       "      <td>108</td>\n",
       "      <td>Oui</td>\n",
       "      <td>1.5</td>\n",
       "      <td>Plat</td>\n",
       "      <td>1</td>\n",
       "    </tr>\n",
       "    <tr>\n",
       "      <th>4</th>\n",
       "      <td>54</td>\n",
       "      <td>homme</td>\n",
       "      <td>DNA</td>\n",
       "      <td>150</td>\n",
       "      <td>195</td>\n",
       "      <td>0</td>\n",
       "      <td>Normal</td>\n",
       "      <td>122</td>\n",
       "      <td>Non</td>\n",
       "      <td>0.0</td>\n",
       "      <td>Ascendant</td>\n",
       "      <td>0</td>\n",
       "    </tr>\n",
       "  </tbody>\n",
       "</table>\n",
       "</div>"
      ],
      "text/plain": [
       "   AGE   SEXE  TDT  PAR  CHOLESTEROL  GAJ     ECG  FCMAX ANGINE  DEPRESSION  \\\n",
       "0   40  homme   AA  140          289    0  Normal    172    Non         0.0   \n",
       "1   49  femme  DNA  160          180    0  Normal    156    Non         1.0   \n",
       "2   37  homme   AA  130          283    0      ST     98    Non         0.0   \n",
       "3   48  femme  ASY  138          214    0  Normal    108    Oui         1.5   \n",
       "4   54  homme  DNA  150          195    0  Normal    122    Non         0.0   \n",
       "\n",
       "       PENTE  CŒUR  \n",
       "0  Ascendant     0  \n",
       "1       Plat     1  \n",
       "2  Ascendant     0  \n",
       "3       Plat     1  \n",
       "4  Ascendant     0  "
      ]
     },
     "execution_count": 5,
     "metadata": {},
     "output_type": "execute_result"
    }
   ],
   "source": [
    "df.head()"
   ]
  },
  {
   "cell_type": "markdown",
   "id": "fa44d070",
   "metadata": {},
   "source": [
    "### Ecodagede des variable Qualitative"
   ]
  },
  {
   "cell_type": "code",
   "execution_count": 6,
   "id": "f0d5e397",
   "metadata": {},
   "outputs": [],
   "source": [
    "#Encodage\n",
    "df['SEXE'] = df['SEXE'].map({\"homme\":1,\"femme\":0})\n",
    "df['TDT'] = df['TDT'].map({'ASY':0,'DNA':1,'AA':2,'AT':3})\n",
    "df['ECG'] = df['ECG'].map({'Normal':0,'LVH':1,'ST':2})\n",
    "df['ANGINE'] = df['ANGINE'].map({'Oui':0,'Non':1})\n",
    "df['PENTE'] = df['PENTE'].map({'Plat':0,'Ascendant':1,'Descendant':2})"
   ]
  },
  {
   "cell_type": "markdown",
   "id": "f8e123f8",
   "metadata": {},
   "source": [
    "### Normalisation des variable Qualitative"
   ]
  },
  {
   "cell_type": "code",
   "execution_count": 7,
   "id": "8957e50d",
   "metadata": {},
   "outputs": [],
   "source": [
    "quant_cols = ['AGE','PAR','CHOLESTEROL','FCMAX','DEPRESSION']\n",
    "robust = RobustScaler()\n",
    "df[quant_cols] = robust.fit_transform(X=df[quant_cols].values)\n",
    "y = df['CŒUR']\n",
    "data = df.drop('CŒUR',axis=1)"
   ]
  },
  {
   "cell_type": "code",
   "execution_count": 8,
   "id": "0b5f7ead",
   "metadata": {},
   "outputs": [
    {
     "data": {
      "text/html": [
       "<div>\n",
       "<style scoped>\n",
       "    .dataframe tbody tr th:only-of-type {\n",
       "        vertical-align: middle;\n",
       "    }\n",
       "\n",
       "    .dataframe tbody tr th {\n",
       "        vertical-align: top;\n",
       "    }\n",
       "\n",
       "    .dataframe thead th {\n",
       "        text-align: right;\n",
       "    }\n",
       "</style>\n",
       "<table border=\"1\" class=\"dataframe\">\n",
       "  <thead>\n",
       "    <tr style=\"text-align: right;\">\n",
       "      <th></th>\n",
       "      <th>AGE</th>\n",
       "      <th>SEXE</th>\n",
       "      <th>TDT</th>\n",
       "      <th>PAR</th>\n",
       "      <th>CHOLESTEROL</th>\n",
       "      <th>GAJ</th>\n",
       "      <th>ECG</th>\n",
       "      <th>FCMAX</th>\n",
       "      <th>ANGINE</th>\n",
       "      <th>DEPRESSION</th>\n",
       "      <th>PENTE</th>\n",
       "    </tr>\n",
       "  </thead>\n",
       "  <tbody>\n",
       "    <tr>\n",
       "      <th>0</th>\n",
       "      <td>-1.076923</td>\n",
       "      <td>1</td>\n",
       "      <td>2</td>\n",
       "      <td>0.5</td>\n",
       "      <td>0.704000</td>\n",
       "      <td>0</td>\n",
       "      <td>0</td>\n",
       "      <td>0.944444</td>\n",
       "      <td>1</td>\n",
       "      <td>-0.400000</td>\n",
       "      <td>1</td>\n",
       "    </tr>\n",
       "    <tr>\n",
       "      <th>1</th>\n",
       "      <td>-0.384615</td>\n",
       "      <td>0</td>\n",
       "      <td>1</td>\n",
       "      <td>1.5</td>\n",
       "      <td>-0.458667</td>\n",
       "      <td>0</td>\n",
       "      <td>0</td>\n",
       "      <td>0.500000</td>\n",
       "      <td>1</td>\n",
       "      <td>0.266667</td>\n",
       "      <td>0</td>\n",
       "    </tr>\n",
       "    <tr>\n",
       "      <th>2</th>\n",
       "      <td>-1.307692</td>\n",
       "      <td>1</td>\n",
       "      <td>2</td>\n",
       "      <td>0.0</td>\n",
       "      <td>0.640000</td>\n",
       "      <td>0</td>\n",
       "      <td>2</td>\n",
       "      <td>-1.111111</td>\n",
       "      <td>1</td>\n",
       "      <td>-0.400000</td>\n",
       "      <td>1</td>\n",
       "    </tr>\n",
       "    <tr>\n",
       "      <th>3</th>\n",
       "      <td>-0.461538</td>\n",
       "      <td>0</td>\n",
       "      <td>0</td>\n",
       "      <td>0.4</td>\n",
       "      <td>-0.096000</td>\n",
       "      <td>0</td>\n",
       "      <td>0</td>\n",
       "      <td>-0.833333</td>\n",
       "      <td>0</td>\n",
       "      <td>0.600000</td>\n",
       "      <td>0</td>\n",
       "    </tr>\n",
       "    <tr>\n",
       "      <th>4</th>\n",
       "      <td>0.000000</td>\n",
       "      <td>1</td>\n",
       "      <td>1</td>\n",
       "      <td>1.0</td>\n",
       "      <td>-0.298667</td>\n",
       "      <td>0</td>\n",
       "      <td>0</td>\n",
       "      <td>-0.444444</td>\n",
       "      <td>1</td>\n",
       "      <td>-0.400000</td>\n",
       "      <td>1</td>\n",
       "    </tr>\n",
       "  </tbody>\n",
       "</table>\n",
       "</div>"
      ],
      "text/plain": [
       "        AGE  SEXE  TDT  PAR  CHOLESTEROL  GAJ  ECG     FCMAX  ANGINE  \\\n",
       "0 -1.076923     1    2  0.5     0.704000    0    0  0.944444       1   \n",
       "1 -0.384615     0    1  1.5    -0.458667    0    0  0.500000       1   \n",
       "2 -1.307692     1    2  0.0     0.640000    0    2 -1.111111       1   \n",
       "3 -0.461538     0    0  0.4    -0.096000    0    0 -0.833333       0   \n",
       "4  0.000000     1    1  1.0    -0.298667    0    0 -0.444444       1   \n",
       "\n",
       "   DEPRESSION  PENTE  \n",
       "0   -0.400000      1  \n",
       "1    0.266667      0  \n",
       "2   -0.400000      1  \n",
       "3    0.600000      0  \n",
       "4   -0.400000      1  "
      ]
     },
     "execution_count": 8,
     "metadata": {},
     "output_type": "execute_result"
    }
   ],
   "source": [
    "data.head()"
   ]
  },
  {
   "cell_type": "markdown",
   "id": "4f32e3fc",
   "metadata": {},
   "source": [
    "### Division du Data en données d'Entrainement et de Test"
   ]
  },
  {
   "cell_type": "code",
   "execution_count": 9,
   "id": "8ce0db8d",
   "metadata": {},
   "outputs": [],
   "source": [
    "x_train,x_test,y_train,y_test = train_test_split(data,y,test_size=0.2,random_state=10)"
   ]
  },
  {
   "cell_type": "markdown",
   "id": "d60f171d",
   "metadata": {},
   "source": [
    "### Creation du Prémier model pour la selection de Variable"
   ]
  },
  {
   "cell_type": "code",
   "execution_count": 10,
   "id": "abc7e150",
   "metadata": {},
   "outputs": [
    {
     "data": {
      "text/plain": [
       "SVC(C=2, random_state=10)"
      ]
     },
     "execution_count": 10,
     "metadata": {},
     "output_type": "execute_result"
    }
   ],
   "source": [
    "model = SVC(kernel='rbf', C=2,random_state=10)\n",
    "model.fit(x_train,y_train)"
   ]
  },
  {
   "cell_type": "markdown",
   "id": "a8ea4b0d",
   "metadata": {},
   "source": [
    "### Graphe de classification de l'importance des différentes variables dans le model"
   ]
  },
  {
   "cell_type": "code",
   "execution_count": 11,
   "id": "5e03f239",
   "metadata": {},
   "outputs": [
    {
     "data": {
      "text/plain": [
       "Text(0.5, 0, 'Importance')"
      ]
     },
     "execution_count": 11,
     "metadata": {},
     "output_type": "execute_result"
    },
    {
     "data": {
      "image/png": "[encoded data removed]",
      "text/plain": [
       "<Figure size 864x576 with 1 Axes>"
      ]
     },
     "metadata": {},
     "output_type": "display_data"
    }
   ],
   "source": [
    "perm_importance = permutation_importance(model, x_test, y_test,random_state=10)\n",
    "plt.figure(figsize=(12,8))\n",
    "columns = x_test.columns\n",
    "col = np.array(columns)\n",
    "tri_cr = perm_importance.importances_mean.argsort()\n",
    "plt.barh(col[tri_cr], perm_importance.importances_mean[tri_cr])\n",
    "plt.xlabel(\"Importance\")"
   ]
  },
  {
   "cell_type": "markdown",
   "id": "b569ae22",
   "metadata": {},
   "source": [
    "### Liste des meilleurs variables selectionnées"
   ]
  },
  {
   "cell_type": "code",
   "execution_count": 12,
   "id": "35abe094",
   "metadata": {},
   "outputs": [],
   "source": [
    "impCol = ['PENTE','DEPRESSION','ANGINE','GAJ','TDT','ECG','CHOLESTEROL','ANGINE','GAJ','SEXE','PAR']"
   ]
  },
  {
   "cell_type": "markdown",
   "id": "9d88a0ad",
   "metadata": {},
   "source": [
    "### Entrainemant du model avec le nombre de variable incrémenté a chaque fois"
   ]
  },
  {
   "cell_type": "code",
   "execution_count": 13,
   "id": "7d2f4c67",
   "metadata": {},
   "outputs": [],
   "source": [
    "trainScoreList = []\n",
    "testScoreList = []\n",
    "featureQte = []\n",
    "for col in list(impCol):\n",
    "    featureQte.append(col)\n",
    "    model.fit(x_train[featureQte],y_train)\n",
    "    trainScoreList.append(model.score(x_train[featureQte],y_train))\n",
    "    testScoreList.append(model.score(x_test[featureQte],y_test))"
   ]
  },
  {
   "cell_type": "markdown",
   "id": "53f46770",
   "metadata": {},
   "source": [
    "### Visualisation du score d'entrainement et de test en fonction du nombre de variable"
   ]
  },
  {
   "cell_type": "code",
   "execution_count": 14,
   "id": "b90e856e",
   "metadata": {},
   "outputs": [
    {
     "data": {
      "image/png": "[encoded data removed]",
      "text/plain": [
       "<Figure size 864x432 with 1 Axes>"
      ]
     },
     "metadata": {},
     "output_type": "display_data"
    }
   ],
   "source": [
    "plt.figure(figsize=(12,6))\n",
    "plt.xlabel('Nombre de Variable')\n",
    "plt.ylabel('Score')\n",
    "plt.plot(range(1,len(featureQte)+1),trainScoreList,label=\"Train Score\")\n",
    "plt.plot(range(1,len(featureQte)+1),testScoreList,label=\"Test Score\")\n",
    "plt.legend()\n",
    "plt.show()"
   ]
  },
  {
   "cell_type": "markdown",
   "id": "287beec9",
   "metadata": {},
   "source": [
    "### Polynomiale feature"
   ]
  },
  {
   "cell_type": "code",
   "execution_count": 15,
   "id": "972dbe3b",
   "metadata": {},
   "outputs": [],
   "source": [
    "PF_df = data[impCol]"
   ]
  },
  {
   "cell_type": "markdown",
   "id": "e4a1f2b0",
   "metadata": {},
   "source": [
    "* Polynomiale Feature (Degré 2)"
   ]
  },
  {
   "cell_type": "code",
   "execution_count": 16,
   "id": "abb5b800",
   "metadata": {},
   "outputs": [],
   "source": [
    "trans = PolynomialFeatures(degree=2)\n",
    "PF_df = trans.fit_transform(PF_df)"
   ]
  },
  {
   "cell_type": "code",
   "execution_count": 17,
   "id": "28030a94",
   "metadata": {},
   "outputs": [],
   "source": [
    "X_train,X_test,Y_train,Y_test = train_test_split(PF_df,y,test_size=0.2,random_state=10)"
   ]
  },
  {
   "cell_type": "code",
   "execution_count": 18,
   "id": "fa5bc4a2",
   "metadata": {},
   "outputs": [
    {
     "data": {
      "text/plain": [
       "SVC(C=2, random_state=10)"
      ]
     },
     "execution_count": 18,
     "metadata": {},
     "output_type": "execute_result"
    }
   ],
   "source": [
    "pf_m = SVC(kernel='rbf', C=2,random_state=10)\n",
    "pf_m.fit(X_train,Y_train)"
   ]
  },
  {
   "cell_type": "code",
   "execution_count": 21,
   "id": "031fbfaf",
   "metadata": {},
   "outputs": [
    {
     "data": {
      "text/plain": [
       "0.9196185286103542"
      ]
     },
     "execution_count": 21,
     "metadata": {},
     "output_type": "execute_result"
    }
   ],
   "source": [
    "pf_m.score(X_train,Y_train)"
   ]
  },
  {
   "cell_type": "code",
   "execution_count": 22,
   "id": "b5111269",
   "metadata": {},
   "outputs": [
    {
     "data": {
      "text/plain": [
       "0.875"
      ]
     },
     "execution_count": 22,
     "metadata": {},
     "output_type": "execute_result"
    }
   ],
   "source": [
    "pf_m.score(X_test,Y_test)"
   ]
  },
  {
   "cell_type": "markdown",
   "id": "4b14bda1",
   "metadata": {},
   "source": [
    "* Polynomiale Feature (Degré 3)"
   ]
  },
  {
   "cell_type": "code",
   "execution_count": 23,
   "id": "44e5c1f8",
   "metadata": {},
   "outputs": [],
   "source": [
    "trans_3 = PolynomialFeatures(degree=3)\n",
    "PF_df_3 = trans_3.fit_transform(PF_df)"
   ]
  },
  {
   "cell_type": "code",
   "execution_count": 24,
   "id": "4a834dc4",
   "metadata": {},
   "outputs": [],
   "source": [
    "X_train_3,X_test_3,Y_train_3,Y_test_3 = train_test_split(PF_df_3,y,test_size=0.2,random_state=10)"
   ]
  },
  {
   "cell_type": "code",
   "execution_count": 25,
   "id": "6487e8d6",
   "metadata": {},
   "outputs": [
    {
     "data": {
      "text/plain": [
       "SVC(C=2, random_state=10)"
      ]
     },
     "execution_count": 25,
     "metadata": {},
     "output_type": "execute_result"
    }
   ],
   "source": [
    "pf_m.fit(X_train_3,Y_train_3)"
   ]
  },
  {
   "cell_type": "code",
   "execution_count": 26,
   "id": "10fdb33f",
   "metadata": {},
   "outputs": [
    {
     "data": {
      "text/plain": [
       "0.6866485013623979"
      ]
     },
     "execution_count": 26,
     "metadata": {},
     "output_type": "execute_result"
    }
   ],
   "source": [
    "pf_m.score(X_train_3,Y_train_3)"
   ]
  },
  {
   "cell_type": "code",
   "execution_count": 27,
   "id": "29abc0bd",
   "metadata": {},
   "outputs": [
    {
     "data": {
      "text/plain": [
       "0.657608695652174"
      ]
     },
     "execution_count": 27,
     "metadata": {},
     "output_type": "execute_result"
    }
   ],
   "source": [
    "pf_m.score(X_test_3,Y_test_3)"
   ]
  },
  {
   "cell_type": "code",
   "execution_count": null,
   "id": "93506255",
   "metadata": {},
   "outputs": [],
   "source": []
  }
 ],
 "metadata": {
  "kernelspec": {
   "display_name": "Python 3",
   "language": "python",
   "name": "python3"
  },
  "language_info": {
   "codemirror_mode": {
    "name": "ipython",
    "version": 3
   },
   "file_extension": ".py",
   "mimetype": "text/x-python",
   "name": "python",
   "nbconvert_exporter": "python",
   "pygments_lexer": "ipython3",
   "version": "3.9.5"
  }
 },
 "nbformat": 4,
 "nbformat_minor": 5
}
